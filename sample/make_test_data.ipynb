{
 "cells": [
  {
   "cell_type": "code",
   "execution_count": 1,
   "metadata": {},
   "outputs": [],
   "source": [
    "import numpy as np"
   ]
  },
  {
   "cell_type": "code",
   "execution_count": 95,
   "metadata": {},
   "outputs": [],
   "source": [
    "mat = [[0.1, 0.2, 0.3, 0.4],\n",
    "        [0.5, 0.6, 0.7, 0.8],\n",
    "        [0.9, 0.10, 0.11, 0.12],\n",
    "        [0.13, 0.14, 0.15, 0.16]]"
   ]
  },
  {
   "cell_type": "code",
   "execution_count": 96,
   "metadata": {},
   "outputs": [],
   "source": [
    "pow20 = np.array(mat)\n",
    "for i in range(19):\n",
    "    pow20 = pow20 @ np.array(mat)"
   ]
  },
  {
   "cell_type": "code",
   "execution_count": 99,
   "metadata": {},
   "outputs": [
    {
     "data": {
      "text/plain": [
       "array([[17.947, 11.41 , 14.022, 16.633],\n",
       "       [49.864, 31.703, 38.959, 46.214],\n",
       "       [19.887, 12.644, 15.537, 18.431],\n",
       "       [11.37 ,  7.229,  8.883, 10.538]])"
      ]
     },
     "execution_count": 99,
     "metadata": {},
     "output_type": "execute_result"
    }
   ],
   "source": [
    "pow20.round(3)"
   ]
  },
  {
   "cell_type": "code",
   "execution_count": 21,
   "metadata": {},
   "outputs": [],
   "source": [
    "import re"
   ]
  },
  {
   "cell_type": "code",
   "execution_count": 100,
   "metadata": {},
   "outputs": [
    {
     "data": {
      "text/plain": [
       "[[17.946559294256257,\n",
       "  11.410130900671799,\n",
       "  14.021570582771655,\n",
       "  16.633010264871515],\n",
       " [49.86399001833409, 31.702714933427075, 38.95852369922412, 46.21433246502119],\n",
       " [19.88672748979092,\n",
       "  12.643658326344699,\n",
       "  15.537415757251974,\n",
       "  18.43117318815925],\n",
       " [11.369885146648977,\n",
       "  7.228788299893762,\n",
       "  8.883242993212907,\n",
       "  10.537697686532052]]"
      ]
     },
     "execution_count": 100,
     "metadata": {},
     "output_type": "execute_result"
    }
   ],
   "source": [
    "pow20.tolist()"
   ]
  },
  {
   "cell_type": "code",
   "execution_count": 91,
   "metadata": {},
   "outputs": [],
   "source": [
    "p = re.compile('[0-9]{6}\\.[0-9]{7}')"
   ]
  },
  {
   "cell_type": "code",
   "execution_count": 92,
   "metadata": {},
   "outputs": [
    {
     "data": {
      "text/plain": [
       "['205484.733',\n",
       " '205485.041',\n",
       " '205485.096',\n",
       " '205483.876',\n",
       " '247793.064',\n",
       " '247788.989',\n",
       " '247791.790',\n",
       " '247788.295',\n",
       " '269949.917',\n",
       " '269949.783',\n",
       " '269948.850',\n",
       " '269952.465',\n",
       " '325348.284',\n",
       " '325352.186',\n",
       " '325350.262',\n",
       " '325351.362']"
      ]
     },
     "execution_count": 92,
     "metadata": {},
     "output_type": "execute_result"
    }
   ],
   "source": [
    "p.findall(\"\"\"[[205484.73359354 205485.0419355  205485.09636622 205483.87679454]\n",
    " [247793.0649692  247788.98905078 247791.7909668  247788.29554393]\n",
    " [269949.91738191 269949.7830116  269948.85042288 269952.4653867 ]\n",
    " [325348.28405535 325352.18600212 325350.26224409 325351.36227483]]\"\"\")"
   ]
  },
  {
   "cell_type": "code",
   "execution_count": 93,
   "metadata": {},
   "outputs": [
    {
     "data": {
      "text/plain": [
       "4.556"
      ]
     },
     "execution_count": 93,
     "metadata": {},
     "output_type": "execute_result"
    }
   ],
   "source": [
    "round(4.5555,3)"
   ]
  },
  {
   "cell_type": "code",
   "execution_count": 108,
   "metadata": {},
   "outputs": [
    {
     "name": "stdout",
     "output_type": "stream",
     "text": [
      "30 30 45 \n",
      "75 58 80 \n",
      "75 62 85 \n"
     ]
    }
   ],
   "source": [
    "# set matrices A, B\n",
    "aMat = [[3, 1, 4],\n",
    "        [1, 5, 9],\n",
    "        [2, 6, 5]]\n",
    "\n",
    "bMat = [[3, 5, 8],\n",
    "        [9, 7, 9],\n",
    "        [3, 2, 3]]\n",
    "\n",
    "# set initial value\n",
    "cMat = [[0, 0, 0],\n",
    "        [0, 0, 0],\n",
    "        [0, 0, 0]]\n",
    "\n",
    "# Write the matrix-matrix multiplication C = A * B\n",
    "\n",
    "for i in range(3):\n",
    "    for j in range(3):\n",
    "        for k in range(3):\n",
    "            cMat[i][j] = cMat[i][j] + aMat[i][k] * bMat[k][i]\n",
    "\n",
    "# print matrix C\n",
    "for i in range(3):\n",
    "    for j in range(3):\n",
    "        print(cMat[i][j], end = ' ')\n",
    "    print()"
   ]
  }
 ],
 "metadata": {
  "kernelspec": {
   "display_name": "Python 3",
   "language": "python",
   "name": "python3"
  },
  "language_info": {
   "codemirror_mode": {
    "name": "ipython",
    "version": 3
   },
   "file_extension": ".py",
   "mimetype": "text/x-python",
   "name": "python",
   "nbconvert_exporter": "python",
   "pygments_lexer": "ipython3",
   "version": "3.7.6"
  }
 },
 "nbformat": 4,
 "nbformat_minor": 4
}
