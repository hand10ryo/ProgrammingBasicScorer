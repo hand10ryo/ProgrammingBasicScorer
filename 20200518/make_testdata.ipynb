{
 "cells": [
  {
   "cell_type": "code",
   "execution_count": 2,
   "metadata": {},
   "outputs": [],
   "source": [
    "import sys\n",
    "sys.path.append(\"./data3\")\n",
    "import USdata "
   ]
  },
  {
   "cell_type": "code",
   "execution_count": 5,
   "metadata": {},
   "outputs": [
    {
     "data": {
      "text/plain": [
       "{'Alabama': 4833722,\n",
       " 'Alaska': 735132,\n",
       " 'Arizona': 6626624,\n",
       " 'Arkansas': 2959373,\n",
       " 'California': 38332521,\n",
       " 'Colorado': 5268367,\n",
       " 'Connecticut': 3596080,\n",
       " 'Delaware': 925749,\n",
       " 'Florida': 19552860,\n",
       " 'Georgia': 9992167,\n",
       " 'Hawaii': 1404054,\n",
       " 'Idaho': 1612136,\n",
       " 'Illinois': 12882135,\n",
       " 'Indiana': 6570902,\n",
       " 'Iowa': 3090416,\n",
       " 'Kansas': 2893957,\n",
       " 'Kentucky': 4395295,\n",
       " 'Louisiana': 4625470,\n",
       " 'Maine': 1328302,\n",
       " 'Maryland': 5928814,\n",
       " 'Massachusetts': 6692824,\n",
       " 'Michigan': 9895622,\n",
       " 'Minnesota': 5420380,\n",
       " 'Mississippi': 2991207,\n",
       " 'Missouri': 6021988,\n",
       " 'Montana': 1015165,\n",
       " 'Nebraska': 1868516,\n",
       " 'Nevada': 2790136,\n",
       " 'New Hampshire': 1323459,\n",
       " 'New Jersey': 8899339,\n",
       " 'New Mexico': 2085287,\n",
       " 'New York': 19651127,\n",
       " 'North Carolina': 9848060,\n",
       " 'North Dakota': 723393,\n",
       " 'Ohio': 11570808,\n",
       " 'Oklahoma': 3850568,\n",
       " 'Oregon': 3930065,\n",
       " 'Pennsylvania': 12773801,\n",
       " 'Rhode Island': 1051511,\n",
       " 'South Carolina': 4774839,\n",
       " 'South Dakota': 844877,\n",
       " 'Tennessee': 6495978,\n",
       " 'Texas': 26448193,\n",
       " 'Utah': 2900872,\n",
       " 'Vermont': 626630,\n",
       " 'Virginia': 8260405,\n",
       " 'Washington': 6971406,\n",
       " 'West Virginia': 1854304,\n",
       " 'Wisconsin': 5742713,\n",
       " 'Wyoming': 582658}"
      ]
     },
     "execution_count": 5,
     "metadata": {},
     "output_type": "execute_result"
    }
   ],
   "source": [
    "USdata.population"
   ]
  },
  {
   "cell_type": "code",
   "execution_count": 6,
   "metadata": {},
   "outputs": [
    {
     "data": {
      "text/plain": [
       "{'Alabama': 52420,\n",
       " 'Alaska': 665384,\n",
       " 'Arizona': 113990,\n",
       " 'Arkansas': 53179,\n",
       " 'California': 163695,\n",
       " 'Colorado': 104094,\n",
       " 'Connecticut': 5543,\n",
       " 'Delaware': 2489,\n",
       " 'Florida': 65758,\n",
       " 'Georgia': 59425,\n",
       " 'Hawaii': 10932,\n",
       " 'Idaho': 83569,\n",
       " 'Illinois': 57914,\n",
       " 'Indiana': 36420,\n",
       " 'Iowa': 56273,\n",
       " 'Kansas': 82278,\n",
       " 'Kentucky': 40408,\n",
       " 'Louisiana': 52378,\n",
       " 'Maine': 35380,\n",
       " 'Maryland': 12406,\n",
       " 'Massachusetts': 10554,\n",
       " 'Michigan': 96714,\n",
       " 'Minnesota': 86936,\n",
       " 'Mississippi': 48432,\n",
       " 'Missouri': 69707,\n",
       " 'Montana': 147040,\n",
       " 'Nebraska': 77348,\n",
       " 'Nevada': 110572,\n",
       " 'New Hampshire': 9349,\n",
       " 'New Jersey': 8723,\n",
       " 'New Mexico': 121590,\n",
       " 'New York': 54555,\n",
       " 'North Carolina': 53819,\n",
       " 'North Dakota': 70698,\n",
       " 'Ohio': 44826,\n",
       " 'Oklahoma': 69899,\n",
       " 'Oregon': 98379,\n",
       " 'Pennsylvania': 46054,\n",
       " 'Rhode Island': 1545,\n",
       " 'South Carolina': 32020,\n",
       " 'South Dakota': 77116,\n",
       " 'Tennessee': 42144,\n",
       " 'Texas': 268596,\n",
       " 'Utah': 84897,\n",
       " 'Vermont': 9616,\n",
       " 'Virginia': 42775,\n",
       " 'Washington': 71298,\n",
       " 'West Virginia': 24230,\n",
       " 'Wisconsin': 65496,\n",
       " 'Wyoming': 97813}"
      ]
     },
     "execution_count": 6,
     "metadata": {},
     "output_type": "execute_result"
    }
   ],
   "source": [
    "USdata.area"
   ]
  },
  {
   "cell_type": "code",
   "execution_count": 19,
   "metadata": {},
   "outputs": [],
   "source": [
    "density = [round(USdata.population[i]/ USdata.area[i],3) for i in USdata.population.keys()]\n",
    "density.sort()"
   ]
  },
  {
   "cell_type": "code",
   "execution_count": 21,
   "metadata": {},
   "outputs": [
    {
     "name": "stdout",
     "output_type": "stream",
     "text": [
      "[1.105, 5.957, 6.904, 10.232, 10.956, 17.15, 19.291, 24.157, 25.234, 34.169, 35.173, 37.544, 39.948, 50.612, 54.918, 55.088, 55.649, 58.133, 61.761, 62.349, 65.165, 76.529, 86.39, 87.68, 88.309, 92.211, 97.778, 98.468, 102.318, 108.773, 128.435, 141.562, 149.121, 154.138, 168.148, 180.42, 182.985, 193.113, 222.436, 234.17, 258.127, 277.366, 297.346, 360.208, 371.936, 477.899, 634.15, 648.761, 680.59, 1020.215]\n"
     ]
    }
   ],
   "source": [
    "print(density)"
   ]
  },
  {
   "cell_type": "code",
   "execution_count": 29,
   "metadata": {},
   "outputs": [],
   "source": [
    "import random"
   ]
  },
  {
   "cell_type": "code",
   "execution_count": 80,
   "metadata": {},
   "outputs": [],
   "source": [
    "sample = [(random.random(),random.random()) for i in range(10000)]\n",
    "estimated_pi = sum([x**2 + y**2 <=1 for x,y in sample])/10000 * 4"
   ]
  },
  {
   "cell_type": "code",
   "execution_count": 81,
   "metadata": {},
   "outputs": [
    {
     "data": {
      "text/plain": [
       "3.1332"
      ]
     },
     "execution_count": 81,
     "metadata": {},
     "output_type": "execute_result"
    }
   ],
   "source": [
    "estimated_pi"
   ]
  },
  {
   "cell_type": "code",
   "execution_count": 64,
   "metadata": {},
   "outputs": [
    {
     "data": {
      "text/plain": [
       "True"
      ]
     },
     "execution_count": 64,
     "metadata": {},
     "output_type": "execute_result"
    }
   ],
   "source": [
    "estimated_pi > 3.1 and estimated_pi < 3.2"
   ]
  },
  {
   "cell_type": "code",
   "execution_count": 85,
   "metadata": {},
   "outputs": [
    {
     "data": {
      "text/plain": [
       "20200518"
      ]
     },
     "execution_count": 85,
     "metadata": {},
     "output_type": "execute_result"
    }
   ],
   "source": [
    "2**1 * 3**2 * 13 ** 1 * 173 ** 1 * 499**1"
   ]
  },
  {
   "cell_type": "code",
   "execution_count": null,
   "metadata": {},
   "outputs": [],
   "source": [
    "[[2, 1], [3, 2], [13, 1], [173, 1], [499, 1]]"
   ]
  },
  {
   "cell_type": "code",
   "execution_count": 91,
   "metadata": {},
   "outputs": [
    {
     "ename": "SyntaxError",
     "evalue": "invalid syntax (<ipython-input-91-f0aa0642b257>, line 2)",
     "output_type": "error",
     "traceback": [
      "\u001b[0;36m  File \u001b[0;32m\"<ipython-input-91-f0aa0642b257>\"\u001b[0;36m, line \u001b[0;32m2\u001b[0m\n\u001b[0;31m    li[i for i in range(2)]\u001b[0m\n\u001b[0m           ^\u001b[0m\n\u001b[0;31mSyntaxError\u001b[0m\u001b[0;31m:\u001b[0m invalid syntax\n"
     ]
    }
   ],
   "source": [
    "li = [1,2,3,4,5,6,7,8]\n",
    "li[i for i in range(2)]"
   ]
  },
  {
   "cell_type": "code",
   "execution_count": 92,
   "metadata": {},
   "outputs": [],
   "source": [
    "import pandas as pd"
   ]
  },
  {
   "cell_type": "code",
   "execution_count": 104,
   "metadata": {},
   "outputs": [],
   "source": [
    "df_1 = pd.read_csv(\"no1_scored.csv\",encoding=\"shift-jis\")\n",
    "df_2 = pd.read_csv(\"score2.csv\",encoding=\"shift-jis\")\n",
    "df_3 = pd.read_csv(\"score.csv\")#,encoding=\"shift-jis\")"
   ]
  },
  {
   "cell_type": "code",
   "execution_count": 101,
   "metadata": {},
   "outputs": [
    {
     "data": {
      "text/html": [
       "<div>\n",
       "<style scoped>\n",
       "    .dataframe tbody tr th:only-of-type {\n",
       "        vertical-align: middle;\n",
       "    }\n",
       "\n",
       "    .dataframe tbody tr th {\n",
       "        vertical-align: top;\n",
       "    }\n",
       "\n",
       "    .dataframe thead th {\n",
       "        text-align: right;\n",
       "    }\n",
       "</style>\n",
       "<table border=\"1\" class=\"dataframe\">\n",
       "  <thead>\n",
       "    <tr style=\"text-align: right;\">\n",
       "      <th></th>\n",
       "      <th>学籍番号</th>\n",
       "      <th>採点 倉又</th>\n",
       "      <th>採点 松井</th>\n",
       "      <th>第1回点数</th>\n",
       "      <th>コンサイ1</th>\n",
       "      <th>コンサイ2</th>\n",
       "      <th>姓</th>\n",
       "      <th>名</th>\n",
       "      <th>学科</th>\n",
       "      <th>last name</th>\n",
       "      <th>first name</th>\n",
       "      <th>faculty</th>\n",
       "      <th>ハンドル名</th>\n",
       "      <th>学内メールアドレス</th>\n",
       "      <th>個人メールアドレス</th>\n",
       "      <th>携帯メールアドレス</th>\n",
       "    </tr>\n",
       "  </thead>\n",
       "  <tbody>\n",
       "    <tr>\n",
       "      <th>0</th>\n",
       "      <td>14_08217</td>\n",
       "      <td>NaN</td>\n",
       "      <td>○</td>\n",
       "      <td>20.0</td>\n",
       "      <td>NaN</td>\n",
       "      <td>NaN</td>\n",
       "      <td>高木</td>\n",
       "      <td>映紀</td>\n",
       "      <td>社会工学科</td>\n",
       "      <td>Takagi</td>\n",
       "      <td>Eiki</td>\n",
       "      <td>Social Engineering</td>\n",
       "      <td>aKI</td>\n",
       "      <td>takagi.e.aa@m.titech.ac.jp</td>\n",
       "      <td>NaN</td>\n",
       "      <td>登録あり</td>\n",
       "    </tr>\n",
       "    <tr>\n",
       "      <th>1</th>\n",
       "      <td>17B00805</td>\n",
       "      <td>NaN</td>\n",
       "      <td>○</td>\n",
       "      <td>30.0</td>\n",
       "      <td>NaN</td>\n",
       "      <td>NaN</td>\n",
       "      <td>荒山</td>\n",
       "      <td>慧</td>\n",
       "      <td>経営工学系</td>\n",
       "      <td>Arayama</td>\n",
       "      <td>Kei</td>\n",
       "      <td>Undergraduate major in Industrial Engineering ...</td>\n",
       "      <td>NaN</td>\n",
       "      <td>arayama.k.ab@m.titech.ac.jp</td>\n",
       "      <td>NaN</td>\n",
       "      <td>NaN</td>\n",
       "    </tr>\n",
       "    <tr>\n",
       "      <th>2</th>\n",
       "      <td>17B02649</td>\n",
       "      <td>NaN</td>\n",
       "      <td>NaN</td>\n",
       "      <td>NaN</td>\n",
       "      <td>NaN</td>\n",
       "      <td>NaN</td>\n",
       "      <td>大池</td>\n",
       "      <td>優士</td>\n",
       "      <td>数学系</td>\n",
       "      <td>Oike</td>\n",
       "      <td>Yushi</td>\n",
       "      <td>Undergraduate major in Mathematics</td>\n",
       "      <td>NaN</td>\n",
       "      <td>oike.y.aa@m.titech.ac.jp</td>\n",
       "      <td>NaN</td>\n",
       "      <td>登録あり</td>\n",
       "    </tr>\n",
       "    <tr>\n",
       "      <th>3</th>\n",
       "      <td>17B08184</td>\n",
       "      <td>NaN</td>\n",
       "      <td>○</td>\n",
       "      <td>30.0</td>\n",
       "      <td>○</td>\n",
       "      <td>○</td>\n",
       "      <td>菅原</td>\n",
       "      <td>大資</td>\n",
       "      <td>経営工学系</td>\n",
       "      <td>Sugawara</td>\n",
       "      <td>Daisuke</td>\n",
       "      <td>Undergraduate major in Industrial Engineering ...</td>\n",
       "      <td>NaN</td>\n",
       "      <td>sugawara.d.aa@m.titech.ac.jp</td>\n",
       "      <td>登録あり</td>\n",
       "      <td>NaN</td>\n",
       "    </tr>\n",
       "    <tr>\n",
       "      <th>4</th>\n",
       "      <td>17B08860</td>\n",
       "      <td>NaN</td>\n",
       "      <td>○</td>\n",
       "      <td>30.0</td>\n",
       "      <td>NaN</td>\n",
       "      <td>NaN</td>\n",
       "      <td>高井</td>\n",
       "      <td>雄也</td>\n",
       "      <td>経営工学系</td>\n",
       "      <td>Takai</td>\n",
       "      <td>Yuya</td>\n",
       "      <td>Undergraduate major in Industrial Engineering ...</td>\n",
       "      <td>NaN</td>\n",
       "      <td>takai.y.ac@m.titech.ac.jp</td>\n",
       "      <td>NaN</td>\n",
       "      <td>NaN</td>\n",
       "    </tr>\n",
       "  </tbody>\n",
       "</table>\n",
       "</div>"
      ],
      "text/plain": [
       "       学籍番号 採点 倉又 採点 松井  第1回点数 コンサイ1 コンサイ2   姓   名     学科 last name  \\\n",
       "0  14_08217   NaN     ○   20.0   NaN   NaN  高木  映紀  社会工学科    Takagi   \n",
       "1  17B00805   NaN     ○   30.0   NaN   NaN  荒山   慧  経営工学系   Arayama   \n",
       "2  17B02649   NaN   NaN    NaN   NaN   NaN  大池  優士    数学系      Oike   \n",
       "3  17B08184   NaN     ○   30.0     ○     ○  菅原  大資  経営工学系  Sugawara   \n",
       "4  17B08860   NaN     ○   30.0   NaN   NaN  高井  雄也  経営工学系     Takai   \n",
       "\n",
       "  first name                                            faculty ハンドル名  \\\n",
       "0       Eiki                                 Social Engineering   aKI   \n",
       "1        Kei  Undergraduate major in Industrial Engineering ...   NaN   \n",
       "2      Yushi                 Undergraduate major in Mathematics   NaN   \n",
       "3    Daisuke  Undergraduate major in Industrial Engineering ...   NaN   \n",
       "4       Yuya  Undergraduate major in Industrial Engineering ...   NaN   \n",
       "\n",
       "                      学内メールアドレス 個人メールアドレス 携帯メールアドレス  \n",
       "0    takagi.e.aa@m.titech.ac.jp       NaN      登録あり  \n",
       "1   arayama.k.ab@m.titech.ac.jp       NaN       NaN  \n",
       "2      oike.y.aa@m.titech.ac.jp       NaN      登録あり  \n",
       "3  sugawara.d.aa@m.titech.ac.jp      登録あり       NaN  \n",
       "4     takai.y.ac@m.titech.ac.jp       NaN       NaN  "
      ]
     },
     "execution_count": 101,
     "metadata": {},
     "output_type": "execute_result"
    }
   ],
   "source": [
    "df_1.head()"
   ]
  },
  {
   "cell_type": "code",
   "execution_count": 110,
   "metadata": {},
   "outputs": [],
   "source": [
    "df_2 = df_2.iloc[:,[0,-2,-1]]"
   ]
  },
  {
   "cell_type": "code",
   "execution_count": 109,
   "metadata": {},
   "outputs": [],
   "source": [
    "df_3.columns=[\"学籍番号\",\"第3回通常\",\"第3回応用\"]"
   ]
  },
  {
   "cell_type": "code",
   "execution_count": 115,
   "metadata": {},
   "outputs": [
    {
     "data": {
      "text/plain": [
       "[0, 6, 7, 8, 9, 10, 11, 12, 13, 14, 15]"
      ]
     },
     "execution_count": 115,
     "metadata": {},
     "output_type": "execute_result"
    }
   ],
   "source": [
    "[0] + list(range(6,16))"
   ]
  },
  {
   "cell_type": "code",
   "execution_count": 144,
   "metadata": {},
   "outputs": [],
   "source": [
    "df = pd.merge(pd.merge(df_1.iloc[:-1,[0,6,7,8,9,10,11,12,13,14,15,3]],df_2,on=\"学籍番号\",how=\"outer\"),df_3,on=\"学籍番号\",how=\"outer\")"
   ]
  },
  {
   "cell_type": "code",
   "execution_count": 146,
   "metadata": {},
   "outputs": [],
   "source": [
    "df.to_csv(\"score3.csv\",encoding=\"shift-jis\")"
   ]
  },
  {
   "cell_type": "code",
   "execution_count": 153,
   "metadata": {},
   "outputs": [],
   "source": [
    "df_1 = pd.read_csv(\"copycehck_Density.csv\",index_col=0)\n",
    "df_2 = pd.read_csv(\"copycehck_MonteCarlo.csv\",index_col=0)\n",
    "df_3 = pd.read_csv(\"copycehck_PrimeFactorization.csv\",index_col=0)"
   ]
  },
  {
   "cell_type": "code",
   "execution_count": 162,
   "metadata": {},
   "outputs": [
    {
     "data": {
      "text/html": [
       "<div>\n",
       "<style scoped>\n",
       "    .dataframe tbody tr th:only-of-type {\n",
       "        vertical-align: middle;\n",
       "    }\n",
       "\n",
       "    .dataframe tbody tr th {\n",
       "        vertical-align: top;\n",
       "    }\n",
       "\n",
       "    .dataframe thead th {\n",
       "        text-align: right;\n",
       "    }\n",
       "</style>\n",
       "<table border=\"1\" class=\"dataframe\">\n",
       "  <thead>\n",
       "    <tr style=\"text-align: right;\">\n",
       "      <th></th>\n",
       "      <th>ID_min</th>\n",
       "      <th>level_1</th>\n",
       "      <th>0</th>\n",
       "    </tr>\n",
       "  </thead>\n",
       "  <tbody>\n",
       "    <tr>\n",
       "      <th>0</th>\n",
       "      <td>1408217</td>\n",
       "      <td>1700805</td>\n",
       "      <td>0.172414</td>\n",
       "    </tr>\n",
       "    <tr>\n",
       "      <th>1</th>\n",
       "      <td>1408217</td>\n",
       "      <td>1708184</td>\n",
       "      <td>-0.130890</td>\n",
       "    </tr>\n",
       "    <tr>\n",
       "      <th>2</th>\n",
       "      <td>1408217</td>\n",
       "      <td>1708860</td>\n",
       "      <td>0.717647</td>\n",
       "    </tr>\n",
       "    <tr>\n",
       "      <th>3</th>\n",
       "      <td>1408217</td>\n",
       "      <td>1806604</td>\n",
       "      <td>0.701149</td>\n",
       "    </tr>\n",
       "    <tr>\n",
       "      <th>4</th>\n",
       "      <td>1408217</td>\n",
       "      <td>1808589</td>\n",
       "      <td>0.528796</td>\n",
       "    </tr>\n",
       "    <tr>\n",
       "      <th>...</th>\n",
       "      <td>...</td>\n",
       "      <td>...</td>\n",
       "      <td>...</td>\n",
       "    </tr>\n",
       "    <tr>\n",
       "      <th>1886</th>\n",
       "      <td>1913814</td>\n",
       "      <td>1941704</td>\n",
       "      <td>0.464789</td>\n",
       "    </tr>\n",
       "    <tr>\n",
       "      <th>1887</th>\n",
       "      <td>1913814</td>\n",
       "      <td>1950040</td>\n",
       "      <td>0.419643</td>\n",
       "    </tr>\n",
       "    <tr>\n",
       "      <th>1888</th>\n",
       "      <td>1941348</td>\n",
       "      <td>1941704</td>\n",
       "      <td>0.698492</td>\n",
       "    </tr>\n",
       "    <tr>\n",
       "      <th>1889</th>\n",
       "      <td>1941348</td>\n",
       "      <td>1950040</td>\n",
       "      <td>0.590476</td>\n",
       "    </tr>\n",
       "    <tr>\n",
       "      <th>1890</th>\n",
       "      <td>1941704</td>\n",
       "      <td>1950040</td>\n",
       "      <td>0.850746</td>\n",
       "    </tr>\n",
       "  </tbody>\n",
       "</table>\n",
       "<p>1891 rows × 3 columns</p>\n",
       "</div>"
      ],
      "text/plain": [
       "       ID_min  level_1         0\n",
       "0     1408217  1700805  0.172414\n",
       "1     1408217  1708184 -0.130890\n",
       "2     1408217  1708860  0.717647\n",
       "3     1408217  1806604  0.701149\n",
       "4     1408217  1808589  0.528796\n",
       "...       ...      ...       ...\n",
       "1886  1913814  1941704  0.464789\n",
       "1887  1913814  1950040  0.419643\n",
       "1888  1941348  1941704  0.698492\n",
       "1889  1941348  1950040  0.590476\n",
       "1890  1941704  1950040  0.850746\n",
       "\n",
       "[1891 rows x 3 columns]"
      ]
     },
     "execution_count": 162,
     "metadata": {},
     "output_type": "execute_result"
    }
   ],
   "source": [
    "df_1.stack().reset_index()"
   ]
  },
  {
   "cell_type": "code",
   "execution_count": 163,
   "metadata": {},
   "outputs": [
    {
     "data": {
      "text/html": [
       "<div>\n",
       "<style scoped>\n",
       "    .dataframe tbody tr th:only-of-type {\n",
       "        vertical-align: middle;\n",
       "    }\n",
       "\n",
       "    .dataframe tbody tr th {\n",
       "        vertical-align: top;\n",
       "    }\n",
       "\n",
       "    .dataframe thead th {\n",
       "        text-align: right;\n",
       "    }\n",
       "</style>\n",
       "<table border=\"1\" class=\"dataframe\">\n",
       "  <thead>\n",
       "    <tr style=\"text-align: right;\">\n",
       "      <th></th>\n",
       "      <th>ID_min</th>\n",
       "      <th>level_1</th>\n",
       "      <th>0</th>\n",
       "    </tr>\n",
       "  </thead>\n",
       "  <tbody>\n",
       "    <tr>\n",
       "      <th>0</th>\n",
       "      <td>1408217</td>\n",
       "      <td>1700805</td>\n",
       "      <td>0.655462</td>\n",
       "    </tr>\n",
       "    <tr>\n",
       "      <th>1</th>\n",
       "      <td>1408217</td>\n",
       "      <td>1708184</td>\n",
       "      <td>0.450704</td>\n",
       "    </tr>\n",
       "    <tr>\n",
       "      <th>2</th>\n",
       "      <td>1408217</td>\n",
       "      <td>1708860</td>\n",
       "      <td>0.723849</td>\n",
       "    </tr>\n",
       "    <tr>\n",
       "      <th>3</th>\n",
       "      <td>1408217</td>\n",
       "      <td>1801216</td>\n",
       "      <td>0.413127</td>\n",
       "    </tr>\n",
       "    <tr>\n",
       "      <th>4</th>\n",
       "      <td>1408217</td>\n",
       "      <td>1806604</td>\n",
       "      <td>0.285266</td>\n",
       "    </tr>\n",
       "    <tr>\n",
       "      <th>...</th>\n",
       "      <td>...</td>\n",
       "      <td>...</td>\n",
       "      <td>...</td>\n",
       "    </tr>\n",
       "    <tr>\n",
       "      <th>1948</th>\n",
       "      <td>1913814</td>\n",
       "      <td>1941704</td>\n",
       "      <td>0.342193</td>\n",
       "    </tr>\n",
       "    <tr>\n",
       "      <th>1949</th>\n",
       "      <td>1913814</td>\n",
       "      <td>1950040</td>\n",
       "      <td>0.630252</td>\n",
       "    </tr>\n",
       "    <tr>\n",
       "      <th>1950</th>\n",
       "      <td>1941348</td>\n",
       "      <td>1941704</td>\n",
       "      <td>0.415929</td>\n",
       "    </tr>\n",
       "    <tr>\n",
       "      <th>1951</th>\n",
       "      <td>1941348</td>\n",
       "      <td>1950040</td>\n",
       "      <td>0.478261</td>\n",
       "    </tr>\n",
       "    <tr>\n",
       "      <th>1952</th>\n",
       "      <td>1941704</td>\n",
       "      <td>1950040</td>\n",
       "      <td>0.411371</td>\n",
       "    </tr>\n",
       "  </tbody>\n",
       "</table>\n",
       "<p>1953 rows × 3 columns</p>\n",
       "</div>"
      ],
      "text/plain": [
       "       ID_min  level_1         0\n",
       "0     1408217  1700805  0.655462\n",
       "1     1408217  1708184  0.450704\n",
       "2     1408217  1708860  0.723849\n",
       "3     1408217  1801216  0.413127\n",
       "4     1408217  1806604  0.285266\n",
       "...       ...      ...       ...\n",
       "1948  1913814  1941704  0.342193\n",
       "1949  1913814  1950040  0.630252\n",
       "1950  1941348  1941704  0.415929\n",
       "1951  1941348  1950040  0.478261\n",
       "1952  1941704  1950040  0.411371\n",
       "\n",
       "[1953 rows x 3 columns]"
      ]
     },
     "execution_count": 163,
     "metadata": {},
     "output_type": "execute_result"
    }
   ],
   "source": [
    "df_2.stack().reset_index()"
   ]
  },
  {
   "cell_type": "code",
   "execution_count": null,
   "metadata": {},
   "outputs": [],
   "source": []
  }
 ],
 "metadata": {
  "kernelspec": {
   "display_name": "Python 3",
   "language": "python",
   "name": "python3"
  },
  "language_info": {
   "codemirror_mode": {
    "name": "ipython",
    "version": 3
   },
   "file_extension": ".py",
   "mimetype": "text/x-python",
   "name": "python",
   "nbconvert_exporter": "python",
   "pygments_lexer": "ipython3",
   "version": "3.7.6"
  }
 },
 "nbformat": 4,
 "nbformat_minor": 4
}
