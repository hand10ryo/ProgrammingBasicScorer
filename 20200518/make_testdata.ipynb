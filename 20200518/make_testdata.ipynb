{
 "cells": [
  {
   "cell_type": "code",
   "execution_count": 2,
   "metadata": {},
   "outputs": [],
   "source": [
    "import sys\n",
    "sys.path.append(\"./data3\")\n",
    "import USdata "
   ]
  },
  {
   "cell_type": "code",
   "execution_count": 5,
   "metadata": {},
   "outputs": [
    {
     "data": {
      "text/plain": [
       "{'Alabama': 4833722,\n",
       " 'Alaska': 735132,\n",
       " 'Arizona': 6626624,\n",
       " 'Arkansas': 2959373,\n",
       " 'California': 38332521,\n",
       " 'Colorado': 5268367,\n",
       " 'Connecticut': 3596080,\n",
       " 'Delaware': 925749,\n",
       " 'Florida': 19552860,\n",
       " 'Georgia': 9992167,\n",
       " 'Hawaii': 1404054,\n",
       " 'Idaho': 1612136,\n",
       " 'Illinois': 12882135,\n",
       " 'Indiana': 6570902,\n",
       " 'Iowa': 3090416,\n",
       " 'Kansas': 2893957,\n",
       " 'Kentucky': 4395295,\n",
       " 'Louisiana': 4625470,\n",
       " 'Maine': 1328302,\n",
       " 'Maryland': 5928814,\n",
       " 'Massachusetts': 6692824,\n",
       " 'Michigan': 9895622,\n",
       " 'Minnesota': 5420380,\n",
       " 'Mississippi': 2991207,\n",
       " 'Missouri': 6021988,\n",
       " 'Montana': 1015165,\n",
       " 'Nebraska': 1868516,\n",
       " 'Nevada': 2790136,\n",
       " 'New Hampshire': 1323459,\n",
       " 'New Jersey': 8899339,\n",
       " 'New Mexico': 2085287,\n",
       " 'New York': 19651127,\n",
       " 'North Carolina': 9848060,\n",
       " 'North Dakota': 723393,\n",
       " 'Ohio': 11570808,\n",
       " 'Oklahoma': 3850568,\n",
       " 'Oregon': 3930065,\n",
       " 'Pennsylvania': 12773801,\n",
       " 'Rhode Island': 1051511,\n",
       " 'South Carolina': 4774839,\n",
       " 'South Dakota': 844877,\n",
       " 'Tennessee': 6495978,\n",
       " 'Texas': 26448193,\n",
       " 'Utah': 2900872,\n",
       " 'Vermont': 626630,\n",
       " 'Virginia': 8260405,\n",
       " 'Washington': 6971406,\n",
       " 'West Virginia': 1854304,\n",
       " 'Wisconsin': 5742713,\n",
       " 'Wyoming': 582658}"
      ]
     },
     "execution_count": 5,
     "metadata": {},
     "output_type": "execute_result"
    }
   ],
   "source": [
    "USdata.population"
   ]
  },
  {
   "cell_type": "code",
   "execution_count": 6,
   "metadata": {},
   "outputs": [
    {
     "data": {
      "text/plain": [
       "{'Alabama': 52420,\n",
       " 'Alaska': 665384,\n",
       " 'Arizona': 113990,\n",
       " 'Arkansas': 53179,\n",
       " 'California': 163695,\n",
       " 'Colorado': 104094,\n",
       " 'Connecticut': 5543,\n",
       " 'Delaware': 2489,\n",
       " 'Florida': 65758,\n",
       " 'Georgia': 59425,\n",
       " 'Hawaii': 10932,\n",
       " 'Idaho': 83569,\n",
       " 'Illinois': 57914,\n",
       " 'Indiana': 36420,\n",
       " 'Iowa': 56273,\n",
       " 'Kansas': 82278,\n",
       " 'Kentucky': 40408,\n",
       " 'Louisiana': 52378,\n",
       " 'Maine': 35380,\n",
       " 'Maryland': 12406,\n",
       " 'Massachusetts': 10554,\n",
       " 'Michigan': 96714,\n",
       " 'Minnesota': 86936,\n",
       " 'Mississippi': 48432,\n",
       " 'Missouri': 69707,\n",
       " 'Montana': 147040,\n",
       " 'Nebraska': 77348,\n",
       " 'Nevada': 110572,\n",
       " 'New Hampshire': 9349,\n",
       " 'New Jersey': 8723,\n",
       " 'New Mexico': 121590,\n",
       " 'New York': 54555,\n",
       " 'North Carolina': 53819,\n",
       " 'North Dakota': 70698,\n",
       " 'Ohio': 44826,\n",
       " 'Oklahoma': 69899,\n",
       " 'Oregon': 98379,\n",
       " 'Pennsylvania': 46054,\n",
       " 'Rhode Island': 1545,\n",
       " 'South Carolina': 32020,\n",
       " 'South Dakota': 77116,\n",
       " 'Tennessee': 42144,\n",
       " 'Texas': 268596,\n",
       " 'Utah': 84897,\n",
       " 'Vermont': 9616,\n",
       " 'Virginia': 42775,\n",
       " 'Washington': 71298,\n",
       " 'West Virginia': 24230,\n",
       " 'Wisconsin': 65496,\n",
       " 'Wyoming': 97813}"
      ]
     },
     "execution_count": 6,
     "metadata": {},
     "output_type": "execute_result"
    }
   ],
   "source": [
    "USdata.area"
   ]
  },
  {
   "cell_type": "code",
   "execution_count": 19,
   "metadata": {},
   "outputs": [],
   "source": [
    "density = [round(USdata.population[i]/ USdata.area[i],3) for i in USdata.population.keys()]\n",
    "density.sort()"
   ]
  },
  {
   "cell_type": "code",
   "execution_count": 21,
   "metadata": {},
   "outputs": [
    {
     "name": "stdout",
     "output_type": "stream",
     "text": [
      "[1.105, 5.957, 6.904, 10.232, 10.956, 17.15, 19.291, 24.157, 25.234, 34.169, 35.173, 37.544, 39.948, 50.612, 54.918, 55.088, 55.649, 58.133, 61.761, 62.349, 65.165, 76.529, 86.39, 87.68, 88.309, 92.211, 97.778, 98.468, 102.318, 108.773, 128.435, 141.562, 149.121, 154.138, 168.148, 180.42, 182.985, 193.113, 222.436, 234.17, 258.127, 277.366, 297.346, 360.208, 371.936, 477.899, 634.15, 648.761, 680.59, 1020.215]\n"
     ]
    }
   ],
   "source": [
    "print(density)"
   ]
  },
  {
   "cell_type": "code",
   "execution_count": 29,
   "metadata": {},
   "outputs": [],
   "source": [
    "import random"
   ]
  },
  {
   "cell_type": "code",
   "execution_count": 80,
   "metadata": {},
   "outputs": [],
   "source": [
    "sample = [(random.random(),random.random()) for i in range(10000)]\n",
    "estimated_pi = sum([x**2 + y**2 <=1 for x,y in sample])/10000 * 4"
   ]
  },
  {
   "cell_type": "code",
   "execution_count": 81,
   "metadata": {},
   "outputs": [
    {
     "data": {
      "text/plain": [
       "3.1332"
      ]
     },
     "execution_count": 81,
     "metadata": {},
     "output_type": "execute_result"
    }
   ],
   "source": [
    "estimated_pi"
   ]
  },
  {
   "cell_type": "code",
   "execution_count": 64,
   "metadata": {},
   "outputs": [
    {
     "data": {
      "text/plain": [
       "True"
      ]
     },
     "execution_count": 64,
     "metadata": {},
     "output_type": "execute_result"
    }
   ],
   "source": [
    "estimated_pi > 3.1 and estimated_pi < 3.2"
   ]
  },
  {
   "cell_type": "code",
   "execution_count": 85,
   "metadata": {},
   "outputs": [
    {
     "data": {
      "text/plain": [
       "20200518"
      ]
     },
     "execution_count": 85,
     "metadata": {},
     "output_type": "execute_result"
    }
   ],
   "source": [
    "2**1 * 3**2 * 13 ** 1 * 173 ** 1 * 499**1"
   ]
  },
  {
   "cell_type": "code",
   "execution_count": null,
   "metadata": {},
   "outputs": [],
   "source": [
    "[[2, 1], [3, 2], [13, 1], [173, 1], [499, 1]]"
   ]
  }
 ],
 "metadata": {
  "kernelspec": {
   "display_name": "Python 3",
   "language": "python",
   "name": "python3"
  },
  "language_info": {
   "codemirror_mode": {
    "name": "ipython",
    "version": 3
   },
   "file_extension": ".py",
   "mimetype": "text/x-python",
   "name": "python",
   "nbconvert_exporter": "python",
   "pygments_lexer": "ipython3",
   "version": "3.7.6"
  }
 },
 "nbformat": 4,
 "nbformat_minor": 4
}
