{
 "cells": [
  {
   "cell_type": "code",
   "execution_count": null,
   "metadata": {},
   "outputs": [],
   "source": [
    "# set matrices A, B\n",
    "aMat = [[3, 1, 4],\n",
    "        [1, 5, 9],\n",
    "        [2, 6, 5]]\n",
    "\n",
    "bMat = [[3, 5, 8],\n",
    "        [9, 7, 9],\n",
    "        [3, 2, 3]]\n",
    "\n",
    "# set initial value\n",
    "cMat = [[0, 0, 0],\n",
    "        [0, 0, 0],\n",
    "        [0, 0, 0]]\n",
    "\n",
    "# Write the matrix-matrix multiplication C = A * B\n",
    "\n",
    "\n",
    "\n",
    "\n",
    "\n",
    "\n",
    "\n",
    "\n",
    "\n",
    "# print matrix C\n",
    "for i in range(3):\n",
    "    for j in range(3):\n",
    "        print(cMat[i][j], end = ' ')\n",
    "    print()\n",
    "\n"
   ]
  },
  {
   "cell_type": "code",
   "execution_count": null,
   "metadata": {},
   "outputs": [],
   "source": []
  }
 ],
 "metadata": {
  "kernelspec": {
   "display_name": "Python 3",
   "language": "python",
   "name": "python3"
  },
  "language_info": {
   "codemirror_mode": {
    "name": "ipython",
    "version": 3
   },
   "file_extension": ".py",
   "mimetype": "text/x-python",
   "name": "python",
   "nbconvert_exporter": "python",
   "pygments_lexer": "ipython3",
   "version": "3.7.6"
  }
 },
 "nbformat": 4,
 "nbformat_minor": 4
}
